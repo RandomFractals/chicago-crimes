{
 "cells": [
  {
   "cell_type": "code",
   "execution_count": 2,
   "metadata": {},
   "outputs": [],
   "source": [
    "import pandas as pd"
   ]
  },
  {
   "cell_type": "code",
   "execution_count": 3,
   "metadata": {},
   "outputs": [],
   "source": [
    "crimes = pd.read_csv('../data/crimes.csv', low_memory=False)\n"
   ]
  },
  {
   "cell_type": "code",
   "execution_count": 4,
   "metadata": {},
   "outputs": [
    {
     "data": {
      "text/plain": [
       "(7643707, 22)"
      ]
     },
     "execution_count": 4,
     "metadata": {},
     "output_type": "execute_result"
    }
   ],
   "source": [
    "crimes.shape"
   ]
  },
  {
   "cell_type": "code",
   "execution_count": 11,
   "metadata": {},
   "outputs": [
    {
     "name": "stdout",
     "output_type": "stream",
     "text": [
      "<class 'pandas.core.frame.DataFrame'>\n",
      "RangeIndex: 7643707 entries, 0 to 7643706\n",
      "Data columns (total 22 columns):\n",
      " #   Column                Dtype  \n",
      "---  ------                -----  \n",
      " 0   ID                    int64  \n",
      " 1   Case Number           object \n",
      " 2   Date                  object \n",
      " 3   Block                 object \n",
      " 4   IUCR                  object \n",
      " 5   Primary Type          object \n",
      " 6   Description           object \n",
      " 7   Location Description  object \n",
      " 8   Arrest                bool   \n",
      " 9   Domestic              bool   \n",
      " 10  Beat                  int64  \n",
      " 11  District              float64\n",
      " 12  Ward                  float64\n",
      " 13  Community Area        float64\n",
      " 14  FBI Code              object \n",
      " 15  X Coordinate          float64\n",
      " 16  Y Coordinate          float64\n",
      " 17  Year                  int64  \n",
      " 18  Updated On            object \n",
      " 19  Latitude              float64\n",
      " 20  Longitude             float64\n",
      " 21  Location              object \n",
      "dtypes: bool(2), float64(7), int64(3), object(10)\n",
      "memory usage: 1.2+ GB\n"
     ]
    }
   ],
   "source": [
    "crimes.info(verbose=True)"
   ]
  },
  {
   "cell_type": "code",
   "execution_count": 12,
   "metadata": {},
   "outputs": [],
   "source": [
    "# read slim 2022 crimes csv data\n",
    "crimes_df = pd.read_csv('../data/crimes-2022-slim.csv.zip',\n",
    "  parse_dates=['Date'],\n",
    "  cache_dates=True,\n",
    "  low_memory=False)\n"
   ]
  },
  {
   "cell_type": "code",
   "execution_count": 13,
   "metadata": {},
   "outputs": [
    {
     "name": "stdout",
     "output_type": "stream",
     "text": [
      "<class 'pandas.core.frame.DataFrame'>\n",
      "RangeIndex: 201432 entries, 0 to 201431\n",
      "Data columns (total 13 columns):\n",
      " #   Column                Non-Null Count   Dtype         \n",
      "---  ------                --------------   -----         \n",
      " 0   Date                  201432 non-null  datetime64[ns]\n",
      " 1   Block                 201432 non-null  object        \n",
      " 2   Primary Type          201432 non-null  object        \n",
      " 3   Description           201432 non-null  object        \n",
      " 4   Location Description  200857 non-null  object        \n",
      " 5   Arrest                201432 non-null  bool          \n",
      " 6   Domestic              201432 non-null  bool          \n",
      " 7   Beat                  201432 non-null  int64         \n",
      " 8   District              201432 non-null  int64         \n",
      " 9   Ward                  201422 non-null  float64       \n",
      " 10  Community Area        201432 non-null  int64         \n",
      " 11  Latitude              200034 non-null  float64       \n",
      " 12  Longitude             200034 non-null  float64       \n",
      "dtypes: bool(2), datetime64[ns](1), float64(3), int64(3), object(4)\n",
      "memory usage: 17.3+ MB\n"
     ]
    }
   ],
   "source": [
    "crimes_df.info(verbose=True)"
   ]
  },
  {
   "cell_type": "code",
   "execution_count": 16,
   "metadata": {},
   "outputs": [
    {
     "name": "stdout",
     "output_type": "stream",
     "text": [
      "                                   Arrest  Domestic    Total\n",
      "Primary Type                                                \n",
      "THEFT                              182305     43183  1612023\n",
      "BATTERY                            309617    611740  1401115\n",
      "CRIMINAL DAMAGE                     59079     73851   871255\n",
      "NARCOTICS                          739675       303   744105\n",
      "ASSAULT                            106672    113023   495960\n",
      "OTHER OFFENSE                       83782    142432   475452\n",
      "BURGLARY                            24009      3584   420155\n",
      "MOTOR VEHICLE THEFT                 30470      2130   357647\n",
      "DECEPTIVE PRACTICE                  46021      3815   334363\n",
      "ROBBERY                             27032      4852   287001\n",
      "CRIMINAL TRESPASS                  149562      7531   211814\n",
      "WEAPONS VIOLATION                   76305       380   101961\n",
      "PROSTITUTION                        69432        10    69705\n",
      "OFFENSE INVOLVING CHILDREN          10888     29546    54501\n",
      "PUBLIC PEACE VIOLATION              32823      2369    51914\n",
      "SEX OFFENSE                          8260      3166    29950\n",
      "CRIM SEXUAL ASSAULT                  4404      3911    27706\n",
      "INTERFERENCE WITH PUBLIC OFFICER    16672       106    18121\n",
      "LIQUOR LAW VIOLATION                14665         9    14793\n",
      "GAMBLING                            14509         4    14616\n",
      "ARSON                                1618       720    13014\n",
      "HOMICIDE                             5746       825    12197\n",
      "KIDNAPPING                            778      1969     7153\n",
      "CRIMINAL SEXUAL ASSAULT               426      1191     5703\n",
      "INTIMIDATION                          716       563     4524\n",
      "STALKING                              633      1917     4512\n",
      "CONCEALED CARRY LICENSE VIOLATION     946         1      979\n",
      "OBSCENITY                             622       128      786\n",
      "PUBLIC INDECENCY                      190         1      192\n",
      "NON-CRIMINAL                           14         2      178\n",
      "OTHER NARCOTIC VIOLATION              100         0      145\n",
      "HUMAN TRAFFICKING                       9        12       95\n",
      "NON - CRIMINAL                          6         0       38\n",
      "RITUALISM                               3         6       24\n",
      "NON-CRIMINAL (SUBJECT SPECIFIED)        3         7        9\n",
      "DOMESTIC VIOLENCE                       1         1        1\n"
     ]
    }
   ],
   "source": [
    "# get crime types\n",
    "crime_types = crimes[['Primary Type']]\n",
    "\n",
    "# get crime counts by primary type\n",
    "crime_type_total = crime_types.groupby('Primary Type').size()\n",
    "\n",
    "# get arrests and domestic counts for each primary crime type\n",
    "crime_type_counts = crimes[['Primary Type', 'Arrest', 'Domestic']]\\\n",
    "    .groupby('Primary Type').sum()\n",
    "\n",
    "# add crime type totals column\n",
    "crime_type_counts['Total'] = crime_type_total\n",
    "\n",
    "# print all crime stats (arrests, domestic, and totals)\n",
    "print(crime_type_counts.sort_values(by='Total', ascending=False))"
   ]
  }
 ],
 "metadata": {
  "kernelspec": {
   "display_name": "Python 3.10.7 64-bit",
   "language": "python",
   "name": "python3"
  },
  "language_info": {
   "codemirror_mode": {
    "name": "ipython",
    "version": 3
   },
   "file_extension": ".py",
   "mimetype": "text/x-python",
   "name": "python",
   "nbconvert_exporter": "python",
   "pygments_lexer": "ipython3",
   "version": "3.10.7"
  },
  "orig_nbformat": 4,
  "vscode": {
   "interpreter": {
    "hash": "369f2c481f4da34e4445cda3fffd2e751bd1c4d706f27375911949ba6bb62e1c"
   }
  }
 },
 "nbformat": 4,
 "nbformat_minor": 2
}
