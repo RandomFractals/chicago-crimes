{
 "cells": [
  {
   "cell_type": "code",
   "execution_count": 2,
   "metadata": {},
   "outputs": [],
   "source": [
    "import duckdb"
   ]
  },
  {
   "cell_type": "code",
   "execution_count": 3,
   "metadata": {},
   "outputs": [],
   "source": [
    "db = duckdb.connect(database=':memory:')"
   ]
  },
  {
   "cell_type": "code",
   "execution_count": 4,
   "metadata": {},
   "outputs": [
    {
     "data": {
      "text/plain": [
       "<duckdb.DuckDBPyConnection at 0x1a5ca081bb0>"
      ]
     },
     "execution_count": 4,
     "metadata": {},
     "output_type": "execute_result"
    }
   ],
   "source": [
    "db.execute(\"CREATE TABLE crimes AS SELECT * FROM read_parquet('../data/crimes.parquet')\")"
   ]
  },
  {
   "cell_type": "code",
   "execution_count": 6,
   "metadata": {},
   "outputs": [
    {
     "name": "stdout",
     "output_type": "stream",
     "text": [
      "[(2017993,)]\n"
     ]
    }
   ],
   "source": [
    "db.execute(\"SELECT COUNT(*) FROM crimes WHERE Arrest=true\")\n",
    "print(db.fetchall())\n"
   ]
  },
  {
   "cell_type": "code",
   "execution_count": 4,
   "metadata": {},
   "outputs": [
    {
     "name": "stdout",
     "output_type": "stream",
     "text": [
      "[('ID', 'BIGINT', 'YES', None, None, None), ('Case Number', 'VARCHAR', 'YES', None, None, None), ('Date', 'VARCHAR', 'YES', None, None, None), ('Block', 'VARCHAR', 'YES', None, None, None), ('IUCR', 'VARCHAR', 'YES', None, None, None), ('Primary Type', 'VARCHAR', 'YES', None, None, None), ('Description', 'VARCHAR', 'YES', None, None, None), ('Location Description', 'VARCHAR', 'YES', None, None, None), ('Arrest', 'BOOLEAN', 'YES', None, None, None), ('Domestic', 'BOOLEAN', 'YES', None, None, None), ('Beat', 'BIGINT', 'YES', None, None, None), ('District', 'BIGINT', 'YES', None, None, None), ('Ward', 'BIGINT', 'YES', None, None, None), ('Community Area', 'BIGINT', 'YES', None, None, None), ('FBI Code', 'VARCHAR', 'YES', None, None, None), ('X Coordinate', 'BIGINT', 'YES', None, None, None), ('Y Coordinate', 'BIGINT', 'YES', None, None, None), ('Year', 'BIGINT', 'YES', None, None, None), ('Updated On', 'VARCHAR', 'YES', None, None, None), ('Latitude', 'DOUBLE', 'YES', None, None, None), ('Longitude', 'DOUBLE', 'YES', None, None, None), ('Location', 'VARCHAR', 'YES', None, None, None)]\n"
     ]
    }
   ],
   "source": [
    "db.execute(\"DESCRIBE crimes;\")\n",
    "print(db.fetchall())"
   ]
  }
 ],
 "metadata": {
  "kernelspec": {
   "display_name": "Python 3.10.7 64-bit",
   "language": "python",
   "name": "python3"
  },
  "language_info": {
   "codemirror_mode": {
    "name": "ipython",
    "version": 3
   },
   "file_extension": ".py",
   "mimetype": "text/x-python",
   "name": "python",
   "nbconvert_exporter": "python",
   "pygments_lexer": "ipython3",
   "version": "3.10.7"
  },
  "orig_nbformat": 4,
  "vscode": {
   "interpreter": {
    "hash": "369f2c481f4da34e4445cda3fffd2e751bd1c4d706f27375911949ba6bb62e1c"
   }
  }
 },
 "nbformat": 4,
 "nbformat_minor": 2
}
