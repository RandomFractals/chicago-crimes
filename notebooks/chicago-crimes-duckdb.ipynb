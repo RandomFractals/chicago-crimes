{
 "cells": [
  {
   "cell_type": "code",
   "execution_count": 5,
   "metadata": {},
   "outputs": [],
   "source": [
    "import duckdb"
   ]
  },
  {
   "cell_type": "code",
   "execution_count": 6,
   "metadata": {},
   "outputs": [
    {
     "data": {
      "text/plain": [
       "<duckdb.DuckDBPyConnection at 0x2b7e9b14070>"
      ]
     },
     "execution_count": 6,
     "metadata": {},
     "output_type": "execute_result"
    }
   ],
   "source": [
    "db = duckdb.connect(database=':memory:')\n",
    "\n",
    "# enable unordered insertion for faster CSV data loading\n",
    "db.execute(\"SET preserve_insertion_order=false\")\n",
    "\n",
    "# enable new experimental parallel CSV data reader\n",
    "db.execute(\"SET experimental_parallel_csv=true\")"
   ]
  },
  {
   "cell_type": "code",
   "execution_count": 7,
   "metadata": {},
   "outputs": [
    {
     "data": {
      "text/plain": [
       "<duckdb.DuckDBPyConnection at 0x2b7e9b14070>"
      ]
     },
     "execution_count": 7,
     "metadata": {},
     "output_type": "execute_result"
    }
   ],
   "source": [
    "db.execute(\"CREATE TABLE crimes AS SELECT * FROM read_csv_auto('../data/crimes.csv')\")"
   ]
  },
  {
   "cell_type": "code",
   "execution_count": 11,
   "metadata": {},
   "outputs": [
    {
     "name": "stdout",
     "output_type": "stream",
     "text": [
      "             column_name column_type null  key default  extra\n",
      "0                     ID     INTEGER  YES  NaN     NaN    NaN\n",
      "1            Case Number     VARCHAR  YES  NaN     NaN    NaN\n",
      "2                   Date   TIMESTAMP  YES  NaN     NaN    NaN\n",
      "3                  Block     VARCHAR  YES  NaN     NaN    NaN\n",
      "4                   IUCR     VARCHAR  YES  NaN     NaN    NaN\n",
      "5           Primary Type     VARCHAR  YES  NaN     NaN    NaN\n",
      "6            Description     VARCHAR  YES  NaN     NaN    NaN\n",
      "7   Location Description     VARCHAR  YES  NaN     NaN    NaN\n",
      "8                 Arrest     BOOLEAN  YES  NaN     NaN    NaN\n",
      "9               Domestic     BOOLEAN  YES  NaN     NaN    NaN\n",
      "10                  Beat     INTEGER  YES  NaN     NaN    NaN\n",
      "11              District     INTEGER  YES  NaN     NaN    NaN\n",
      "12                  Ward     INTEGER  YES  NaN     NaN    NaN\n",
      "13        Community Area     INTEGER  YES  NaN     NaN    NaN\n",
      "14              FBI Code     VARCHAR  YES  NaN     NaN    NaN\n",
      "15          X Coordinate     INTEGER  YES  NaN     NaN    NaN\n",
      "16          Y Coordinate     INTEGER  YES  NaN     NaN    NaN\n",
      "17                  Year     INTEGER  YES  NaN     NaN    NaN\n",
      "18            Updated On   TIMESTAMP  YES  NaN     NaN    NaN\n",
      "19              Latitude      DOUBLE  YES  NaN     NaN    NaN\n",
      "20             Longitude      DOUBLE  YES  NaN     NaN    NaN\n",
      "21              Location     VARCHAR  YES  NaN     NaN    NaN\n"
     ]
    }
   ],
   "source": [
    "db.execute(\"DESCRIBE crimes;\")\n",
    "print(db.fetch_df())"
   ]
  },
  {
   "cell_type": "code",
   "execution_count": 10,
   "metadata": {},
   "outputs": [
    {
     "name": "stdout",
     "output_type": "stream",
     "text": [
      "           ID Case Number                Date                Block  IUCR  \\\n",
      "0    10351578    HY542217 2015-12-10 08:00:00    019XX S MILLER ST  1130   \n",
      "1    10351580    HY542156 2015-11-16 15:59:00    019XX W CERMAK RD  1110   \n",
      "2    10351582    HY542092 2015-12-18 13:00:00      034XX W 77TH ST  0460   \n",
      "3    10351583    HY542284 2015-12-18 17:50:00  040XX W HARRISON ST  2024   \n",
      "4    10351584    HY542135 2015-12-18 16:55:00  071XX S BENNETT AVE  0486   \n",
      "..        ...         ...                 ...                  ...   ...   \n",
      "995  10352755    HY543805 2015-12-20 07:05:00  060XX S SANGAMON ST  041A   \n",
      "996  10352756    HY543864 2015-12-20 07:05:00      009XX W 60TH ST  1320   \n",
      "997  10352758    HY543841 2015-12-20 07:25:00  029XX N ASHLAND AVE  0860   \n",
      "998  10352759    HY543879 2015-12-20 00:30:00      013XX W 73RD ST  0820   \n",
      "999  10352760    HY543900 2015-12-20 03:00:00   024XX W BERWYN AVE  1320   \n",
      "\n",
      "           Primary Type               Description      Location Description  \\\n",
      "0    DECEPTIVE PRACTICE  FRAUD OR CONFIDENCE GAME                 RESIDENCE   \n",
      "1    DECEPTIVE PRACTICE               BOGUS CHECK         CURRENCY EXCHANGE   \n",
      "2               BATTERY                    SIMPLE  SCHOOL, PUBLIC, BUILDING   \n",
      "3             NARCOTICS       POSS: HEROIN(WHITE)    VEHICLE NON-COMMERCIAL   \n",
      "4               BATTERY   DOMESTIC BATTERY SIMPLE                 APARTMENT   \n",
      "..                  ...                       ...                       ...   \n",
      "995             BATTERY       AGGRAVATED: HANDGUN    VEHICLE NON-COMMERCIAL   \n",
      "996     CRIMINAL DAMAGE                TO VEHICLE    VEHICLE NON-COMMERCIAL   \n",
      "997               THEFT              RETAIL THEFT        GROCERY FOOD STORE   \n",
      "998               THEFT            $500 AND UNDER                    STREET   \n",
      "999     CRIMINAL DAMAGE                TO VEHICLE                     OTHER   \n",
      "\n",
      "     Arrest  Domestic  ...  Ward  Community Area  FBI Code  X Coordinate  \\\n",
      "0     False     False  ...    25              31        11     1169771.0   \n",
      "1     False     False  ...    25              31        11     1163681.0   \n",
      "2     False     False  ...    18              70       08B     1154616.0   \n",
      "3      True     False  ...    24              26        18     1149623.0   \n",
      "4     False      True  ...     5              43       08B     1189943.0   \n",
      "..      ...       ...  ...   ...             ...       ...           ...   \n",
      "995   False     False  ...    16              68       04B     1171007.0   \n",
      "996   False     False  ...    16              68        14     1171136.0   \n",
      "997    True     False  ...    32               6        06     1165142.0   \n",
      "998   False     False  ...    17              67        06     1168511.0   \n",
      "999   False     False  ...    40               4        14     1159131.0   \n",
      "\n",
      "    Y Coordinate  Year          Updated On   Latitude  Longitude  \\\n",
      "0      1890901.0  2015 2018-02-10 15:50:01  41.856134 -87.652335   \n",
      "1      1889417.0  2015 2018-02-10 15:50:01  41.852192 -87.674730   \n",
      "2      1853337.0  2015 2018-02-10 15:50:01  41.753370 -87.708963   \n",
      "3      1897057.0  2015 2018-02-10 15:50:01  41.873441 -87.726128   \n",
      "4      1857970.0  2015 2018-02-10 15:50:01  41.765306 -87.579355   \n",
      "..           ...   ...                 ...        ...        ...   \n",
      "995    1864878.0  2015 2018-02-10 15:50:01  41.784697 -87.648559   \n",
      "996    1865047.0  2015 2018-02-10 15:50:01  41.785158 -87.648081   \n",
      "997    1919763.0  2015 2018-02-10 15:50:01  41.935433 -87.668504   \n",
      "998    1856353.0  2015 2015-12-27 15:54:13  41.761358 -87.657956   \n",
      "999    1935118.0  2015 2018-02-10 15:50:01  41.977694 -87.690172   \n",
      "\n",
      "                          Location  \n",
      "0    (41.856133986, -87.652334517)  \n",
      "1    (41.852192114, -87.674729636)  \n",
      "2    (41.753369537, -87.708962817)  \n",
      "3    (41.873441474, -87.726128458)  \n",
      "4    (41.765306435, -87.579354758)  \n",
      "..                             ...  \n",
      "995  (41.784697338, -87.648559036)  \n",
      "996  (41.785158273, -87.648081131)  \n",
      "997  (41.935432921, -87.668504341)  \n",
      "998  (41.761357847, -87.657955856)  \n",
      "999   (41.977693688, -87.69017157)  \n",
      "\n",
      "[1000 rows x 22 columns]\n"
     ]
    }
   ],
   "source": [
    "db.execute(\"SELECT * FROM crimes LIMIT 1000\")\n",
    "print(db.fetch_df())\n"
   ]
  },
  {
   "cell_type": "code",
   "execution_count": 12,
   "metadata": {},
   "outputs": [
    {
     "data": {
      "text/plain": [
       "<duckdb.DuckDBPyConnection at 0x2b7e9b14070>"
      ]
     },
     "execution_count": 12,
     "metadata": {},
     "output_type": "execute_result"
    }
   ],
   "source": [
    "# export duckdb schema and imported data\n",
    "db.execute(\"EXPORT DATABASE '../data/duckdb'\")"
   ]
  }
 ],
 "metadata": {
  "kernelspec": {
   "display_name": "Python 3.10.7 64-bit",
   "language": "python",
   "name": "python3"
  },
  "language_info": {
   "codemirror_mode": {
    "name": "ipython",
    "version": 3
   },
   "file_extension": ".py",
   "mimetype": "text/x-python",
   "name": "python",
   "nbconvert_exporter": "python",
   "pygments_lexer": "ipython3",
   "version": "3.10.7"
  },
  "orig_nbformat": 4,
  "vscode": {
   "interpreter": {
    "hash": "369f2c481f4da34e4445cda3fffd2e751bd1c4d706f27375911949ba6bb62e1c"
   }
  }
 },
 "nbformat": 4,
 "nbformat_minor": 2
}
