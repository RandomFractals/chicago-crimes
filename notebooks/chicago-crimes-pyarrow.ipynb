{
 "cells": [
  {
   "cell_type": "code",
   "execution_count": 1,
   "metadata": {},
   "outputs": [],
   "source": [
    "from pyarrow import csv"
   ]
  },
  {
   "cell_type": "code",
   "execution_count": 2,
   "metadata": {},
   "outputs": [],
   "source": [
    "crimes = csv.read_csv('../data/crimes.csv')"
   ]
  },
  {
   "cell_type": "code",
   "execution_count": 3,
   "metadata": {},
   "outputs": [
    {
     "data": {
      "text/plain": [
       "(7643707, 22)"
      ]
     },
     "execution_count": 3,
     "metadata": {},
     "output_type": "execute_result"
    }
   ],
   "source": [
    "crimes.shape"
   ]
  },
  {
   "cell_type": "code",
   "execution_count": 4,
   "metadata": {},
   "outputs": [
    {
     "data": {
      "text/plain": [
       "ID: int64\n",
       "Case Number: string\n",
       "Date: string\n",
       "Block: string\n",
       "IUCR: string\n",
       "Primary Type: string\n",
       "Description: string\n",
       "Location Description: string\n",
       "Arrest: bool\n",
       "Domestic: bool\n",
       "Beat: int64\n",
       "District: int64\n",
       "Ward: int64\n",
       "Community Area: int64\n",
       "FBI Code: string\n",
       "X Coordinate: int64\n",
       "Y Coordinate: int64\n",
       "Year: int64\n",
       "Updated On: string\n",
       "Latitude: double\n",
       "Longitude: double\n",
       "Location: string"
      ]
     },
     "execution_count": 4,
     "metadata": {},
     "output_type": "execute_result"
    }
   ],
   "source": [
    "crimes.schema"
   ]
  }
 ],
 "metadata": {
  "kernelspec": {
   "display_name": "Python 3.8.8 ('base')",
   "language": "python",
   "name": "python3"
  },
  "language_info": {
   "codemirror_mode": {
    "name": "ipython",
    "version": 3
   },
   "file_extension": ".py",
   "mimetype": "text/x-python",
   "name": "python",
   "nbconvert_exporter": "python",
   "pygments_lexer": "ipython3",
   "version": "3.8.8"
  },
  "orig_nbformat": 4,
  "vscode": {
   "interpreter": {
    "hash": "053ba6305fa347bea405e2cbb2037d3d5b99b4f7018305ee5a68bb9f3bdf3eef"
   }
  }
 },
 "nbformat": 4,
 "nbformat_minor": 2
}
