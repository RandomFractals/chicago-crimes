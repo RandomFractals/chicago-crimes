{
 "cells": [
  {
   "cell_type": "code",
   "execution_count": 1,
   "metadata": {},
   "outputs": [],
   "source": [
    "from pyarrow import csv"
   ]
  },
  {
   "cell_type": "code",
   "execution_count": 2,
   "metadata": {},
   "outputs": [],
   "source": [
    "crimes = csv.read_csv('../data/crimes.csv')"
   ]
  },
  {
   "cell_type": "code",
   "execution_count": 4,
   "metadata": {},
   "outputs": [
    {
     "data": {
      "text/plain": [
       "(7643707, 22)"
      ]
     },
     "execution_count": 4,
     "metadata": {},
     "output_type": "execute_result"
    }
   ],
   "source": [
    "crimes.shape"
   ]
  },
  {
   "cell_type": "code",
   "execution_count": 5,
   "metadata": {},
   "outputs": [
    {
     "data": {
      "text/plain": [
       "ID: int64\n",
       "Case Number: string\n",
       "Date: string\n",
       "Block: string\n",
       "IUCR: string\n",
       "Primary Type: string\n",
       "Description: string\n",
       "Location Description: string\n",
       "Arrest: bool\n",
       "Domestic: bool\n",
       "Beat: int64\n",
       "District: int64\n",
       "Ward: int64\n",
       "Community Area: int64\n",
       "FBI Code: string\n",
       "X Coordinate: int64\n",
       "Y Coordinate: int64\n",
       "Year: int64\n",
       "Updated On: string\n",
       "Latitude: double\n",
       "Longitude: double\n",
       "Location: string"
      ]
     },
     "execution_count": 5,
     "metadata": {},
     "output_type": "execute_result"
    }
   ],
   "source": [
    "crimes.schema"
   ]
  },
  {
   "cell_type": "code",
   "execution_count": 6,
   "metadata": {},
   "outputs": [],
   "source": [
    "# try to convert Date string column to DateTime\n",
    "import pyarrow.compute as pc\n",
    "# unresolved issue in Py/arrow on Windows: https://github.com/apache/arrow/issues/13111\n",
    "# uncomment to try it on other platforms\n",
    "# pc.strptime(crimes.column('Date'), format='%m/%d/%Y %H:%M:%S %p', unit='s')\n"
   ]
  },
  {
   "cell_type": "code",
   "execution_count": 7,
   "metadata": {},
   "outputs": [],
   "source": [
    "# save crimes data in Feather file format\n",
    "import pyarrow.feather as feather\n",
    "feather.write_feather(crimes, '../data/crimes.feather')"
   ]
  },
  {
   "cell_type": "code",
   "execution_count": 8,
   "metadata": {},
   "outputs": [],
   "source": [
    "# read saved crimes feather data\n",
    "feather_data = feather.read_feather('../data/crimes.feather')"
   ]
  },
  {
   "cell_type": "code",
   "execution_count": 9,
   "metadata": {},
   "outputs": [
    {
     "data": {
      "text/plain": [
       "(7643707, 22)"
      ]
     },
     "execution_count": 9,
     "metadata": {},
     "output_type": "execute_result"
    }
   ],
   "source": [
    "feather_data.shape"
   ]
  },
  {
   "cell_type": "code",
   "execution_count": 10,
   "metadata": {},
   "outputs": [],
   "source": [
    "# save crimes data in Apache Parquet file format\n",
    "import pyarrow.parquet as parquet\n",
    "parquet.write_table(crimes, '../data/crimes.parquet')"
   ]
  },
  {
   "cell_type": "code",
   "execution_count": 11,
   "metadata": {},
   "outputs": [],
   "source": [
    "parquet_data = parquet.read_table('../data/crimes.parquet')"
   ]
  },
  {
   "cell_type": "code",
   "execution_count": 12,
   "metadata": {},
   "outputs": [
    {
     "data": {
      "text/plain": [
       "(7643707, 22)"
      ]
     },
     "execution_count": 12,
     "metadata": {},
     "output_type": "execute_result"
    }
   ],
   "source": [
    "parquet_data.shape"
   ]
  },
  {
   "cell_type": "code",
   "execution_count": 13,
   "metadata": {},
   "outputs": [
    {
     "data": {
      "text/plain": [
       "ID: int64\n",
       "Case Number: string\n",
       "Date: string\n",
       "Block: string\n",
       "IUCR: string\n",
       "Primary Type: string\n",
       "Description: string\n",
       "Location Description: string\n",
       "Arrest: bool\n",
       "Domestic: bool\n",
       "Beat: int64\n",
       "District: int64\n",
       "Ward: int64\n",
       "Community Area: int64\n",
       "FBI Code: string\n",
       "X Coordinate: int64\n",
       "Y Coordinate: int64\n",
       "Year: int64\n",
       "Updated On: string\n",
       "Latitude: double\n",
       "Longitude: double\n",
       "Location: string"
      ]
     },
     "execution_count": 13,
     "metadata": {},
     "output_type": "execute_result"
    }
   ],
   "source": [
    "parquet_data.schema"
   ]
  }
 ],
 "metadata": {
  "kernelspec": {
   "display_name": "Python 3.10.7 64-bit",
   "language": "python",
   "name": "python3"
  },
  "language_info": {
   "codemirror_mode": {
    "name": "ipython",
    "version": 3
   },
   "file_extension": ".py",
   "mimetype": "text/x-python",
   "name": "python",
   "nbconvert_exporter": "python",
   "pygments_lexer": "ipython3",
   "version": "3.10.7"
  },
  "orig_nbformat": 4,
  "vscode": {
   "interpreter": {
    "hash": "369f2c481f4da34e4445cda3fffd2e751bd1c4d706f27375911949ba6bb62e1c"
   }
  }
 },
 "nbformat": 4,
 "nbformat_minor": 2
}
