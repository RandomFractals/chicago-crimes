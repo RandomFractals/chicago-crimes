{
 "cells": [
  {
   "cell_type": "code",
   "execution_count": 46,
   "metadata": {},
   "outputs": [],
   "source": [
    "import duckdb"
   ]
  },
  {
   "cell_type": "code",
   "execution_count": 47,
   "metadata": {},
   "outputs": [
    {
     "data": {
      "text/plain": [
       "<duckdb.DuckDBPyConnection at 0x1833f40c4f0>"
      ]
     },
     "execution_count": 47,
     "metadata": {},
     "output_type": "execute_result"
    }
   ],
   "source": [
    "db = duckdb.connect(database=':memory:')\n",
    "\n",
    "# enable unordered insertion for faster CSV data loading\n",
    "db.execute('SET preserve_insertion_order=false')\n",
    "\n",
    "# enable new experimental parallel CSV data reader\n",
    "db.execute('SET experimental_parallel_csv=true')"
   ]
  },
  {
   "cell_type": "code",
   "execution_count": 48,
   "metadata": {},
   "outputs": [
    {
     "data": {
      "text/plain": [
       "<duckdb.DuckDBPyConnection at 0x1833f40c4f0>"
      ]
     },
     "execution_count": 48,
     "metadata": {},
     "output_type": "execute_result"
    }
   ],
   "source": [
    "db.execute(\"CREATE TABLE crimes AS SELECT * FROM read_csv_auto('../data/crimes-2022.csv')\")"
   ]
  },
  {
   "cell_type": "code",
   "execution_count": 49,
   "metadata": {},
   "outputs": [
    {
     "name": "stdout",
     "output_type": "stream",
     "text": [
      "             column_name column_type null  key default  extra\n",
      "0                     ID     INTEGER  YES  NaN     NaN    NaN\n",
      "1            Case Number     VARCHAR  YES  NaN     NaN    NaN\n",
      "2                   Date   TIMESTAMP  YES  NaN     NaN    NaN\n",
      "3                  Block     VARCHAR  YES  NaN     NaN    NaN\n",
      "4                   IUCR     VARCHAR  YES  NaN     NaN    NaN\n",
      "5           Primary Type     VARCHAR  YES  NaN     NaN    NaN\n",
      "6            Description     VARCHAR  YES  NaN     NaN    NaN\n",
      "7   Location Description     VARCHAR  YES  NaN     NaN    NaN\n",
      "8                 Arrest     BOOLEAN  YES  NaN     NaN    NaN\n",
      "9               Domestic     BOOLEAN  YES  NaN     NaN    NaN\n",
      "10                  Beat     INTEGER  YES  NaN     NaN    NaN\n",
      "11              District     INTEGER  YES  NaN     NaN    NaN\n",
      "12                  Ward     INTEGER  YES  NaN     NaN    NaN\n",
      "13        Community Area     INTEGER  YES  NaN     NaN    NaN\n",
      "14              FBI Code     VARCHAR  YES  NaN     NaN    NaN\n",
      "15          X Coordinate     INTEGER  YES  NaN     NaN    NaN\n",
      "16          Y Coordinate     INTEGER  YES  NaN     NaN    NaN\n",
      "17                  Year     INTEGER  YES  NaN     NaN    NaN\n",
      "18            Updated On   TIMESTAMP  YES  NaN     NaN    NaN\n",
      "19              Latitude      DOUBLE  YES  NaN     NaN    NaN\n",
      "20             Longitude      DOUBLE  YES  NaN     NaN    NaN\n",
      "21              Location     VARCHAR  YES  NaN     NaN    NaN\n"
     ]
    }
   ],
   "source": [
    "db.execute('DESCRIBE crimes;')\n",
    "print(db.fetch_df())"
   ]
  },
  {
   "cell_type": "code",
   "execution_count": 50,
   "metadata": {},
   "outputs": [
    {
     "name": "stdout",
     "output_type": "stream",
     "text": [
      "           ID Case Number                Date                   Block  IUCR  \\\n",
      "0    12604297    JF127450 2022-01-29 01:50:00         026XX E 74TH ST  0486   \n",
      "1    12600603    JF122845 2022-01-24 08:00:00      007XX N PULASKI RD  0810   \n",
      "2    12612001    JF136856 2022-02-07 16:20:00         017XX W 84TH ST  051A   \n",
      "3    12607902    JF131835 2022-02-02 11:25:00   010XX W HOLLYWOOD AVE  051A   \n",
      "4    12599557    JF121518 2022-01-22 22:12:00   013XX S SPAULDING AVE  2820   \n",
      "..        ...         ...                 ...                     ...   ...   \n",
      "995  12603924    JF127017 2022-01-28 15:00:00         006XX E 40TH ST  0486   \n",
      "996  12610099    JF134618 2022-02-05 12:30:00     066XX N WESTERN AVE  0810   \n",
      "997  12604904    JF128111 2022-01-29 17:52:00  032XX N RAVENSWOOD AVE  0460   \n",
      "998  12612276    JF137389 2022-02-05 00:00:00        008XX N WELLS ST  1320   \n",
      "999  12605631    JF129149 2022-01-30 23:09:00     051XX W CHICAGO AVE  143A   \n",
      "\n",
      "          Primary Type                    Description  \\\n",
      "0              BATTERY        DOMESTIC BATTERY SIMPLE   \n",
      "1                THEFT                      OVER $500   \n",
      "2              ASSAULT           AGGRAVATED - HANDGUN   \n",
      "3              ASSAULT           AGGRAVATED - HANDGUN   \n",
      "4        OTHER OFFENSE               TELEPHONE THREAT   \n",
      "..                 ...                            ...   \n",
      "995            BATTERY        DOMESTIC BATTERY SIMPLE   \n",
      "996              THEFT                      OVER $500   \n",
      "997            BATTERY                         SIMPLE   \n",
      "998    CRIMINAL DAMAGE                     TO VEHICLE   \n",
      "999  WEAPONS VIOLATION  UNLAWFUL POSSESSION - HANDGUN   \n",
      "\n",
      "        Location Description  Arrest  Domestic  ...  Ward  Community Area  \\\n",
      "0                  APARTMENT   False      True  ...     7              43   \n",
      "1    SCHOOL - PUBLIC GROUNDS   False     False  ...    37              23   \n",
      "2                     STREET   False     False  ...    21              71   \n",
      "3                     STREET   False     False  ...    48              77   \n",
      "4                  RESIDENCE   False      True  ...    24              29   \n",
      "..                       ...     ...       ...  ...   ...             ...   \n",
      "995                   STREET   False      True  ...     4              38   \n",
      "996                   STREET   False     False  ...    50               2   \n",
      "997                 SIDEWALK   False     False  ...    47               5   \n",
      "998                   STREET   False     False  ...    27               8   \n",
      "999   VEHICLE NON-COMMERCIAL    True     False  ...    37              25   \n",
      "\n",
      "     FBI Code  X Coordinate Y Coordinate  Year          Updated On   Latitude  \\\n",
      "0         08B       1195045      1856595  2022 2022-11-12 15:46:21  41.761409   \n",
      "1          06       1149591      1904614  2022 2022-11-12 15:46:21  41.894179   \n",
      "2         04A       1166271      1848992  2022 2022-11-12 15:46:21  41.741206   \n",
      "3         04A       1168051      1938030  2022 2022-11-12 15:46:21  41.985496   \n",
      "4         08A       1154578      1893598  2022 2022-11-12 15:46:21  41.863852   \n",
      "..        ...           ...          ...   ...                 ...        ...   \n",
      "995       08B       1181113      1878355  2022 2022-11-12 15:46:21  41.821453   \n",
      "996        06       1159115      1943911  2022 2022-11-12 15:46:21  42.001822   \n",
      "997       08B       1163652      1921734  2022 2022-11-12 15:46:21  41.940873   \n",
      "998        14       1174586      1905810  2022 2022-11-12 15:46:21  41.896939   \n",
      "999        15       1142088      1904846  2022 2022-11-12 15:46:21  41.894958   \n",
      "\n",
      "     Longitude                       Location  \n",
      "0   -87.560700  (41.761409091, -87.560699994)  \n",
      "1   -87.726050  (41.894179332, -87.726049605)  \n",
      "2   -87.666375  (41.741206191, -87.666374791)  \n",
      "3   -87.657284  (41.985495827, -87.657284019)  \n",
      "4   -87.708029   (41.863851978, -87.70802858)  \n",
      "..         ...                            ...  \n",
      "995 -87.611091  (41.821452529, -87.611091338)  \n",
      "996 -87.689987  (42.001822361, -87.689987495)  \n",
      "997 -87.673924  (41.940873031, -87.673924441)  \n",
      "998 -87.634215  (41.896939068, -87.634215423)  \n",
      "999 -87.753600  (41.894958388, -87.753600348)  \n",
      "\n",
      "[1000 rows x 22 columns]\n"
     ]
    }
   ],
   "source": [
    "db.execute('SELECT * FROM crimes LIMIT 1000')\n",
    "print(db.fetch_df())"
   ]
  },
  {
   "cell_type": "code",
   "execution_count": 51,
   "metadata": {},
   "outputs": [
    {
     "data": {
      "text/plain": [
       "<duckdb.DuckDBPyConnection at 0x1833f40c4f0>"
      ]
     },
     "execution_count": 51,
     "metadata": {},
     "output_type": "execute_result"
    }
   ],
   "source": [
    "# drop columns we will not use for data visualizations in data apps\n",
    "db.execute('ALTER TABLE crimes DROP ID')\n",
    "db.execute('ALTER TABLE crimes DROP \"Case Number\"')\n",
    "db.execute('ALTER TABLE crimes DROP IUCR')\n",
    "db.execute('ALTER TABLE crimes DROP \"FBI Code\"')\n",
    "db.execute('ALTER TABLE crimes DROP \"X Coordinate\"')\n",
    "db.execute('ALTER TABLE crimes DROP \"Y Coordinate\"')\n",
    "db.execute('ALTER TABLE crimes DROP Year')\n",
    "db.execute('ALTER TABLE crimes DROP \"Updated On\"')\n",
    "db.execute('ALTER TABLE crimes DROP Location')"
   ]
  },
  {
   "cell_type": "code",
   "execution_count": 52,
   "metadata": {},
   "outputs": [
    {
     "name": "stdout",
     "output_type": "stream",
     "text": [
      "             column_name column_type null  key default  extra\n",
      "0                   Date   TIMESTAMP  YES  NaN     NaN    NaN\n",
      "1                  Block     VARCHAR  YES  NaN     NaN    NaN\n",
      "2           Primary Type     VARCHAR  YES  NaN     NaN    NaN\n",
      "3            Description     VARCHAR  YES  NaN     NaN    NaN\n",
      "4   Location Description     VARCHAR  YES  NaN     NaN    NaN\n",
      "5                 Arrest     BOOLEAN  YES  NaN     NaN    NaN\n",
      "6               Domestic     BOOLEAN  YES  NaN     NaN    NaN\n",
      "7                   Beat     INTEGER  YES  NaN     NaN    NaN\n",
      "8               District     INTEGER  YES  NaN     NaN    NaN\n",
      "9                   Ward     INTEGER  YES  NaN     NaN    NaN\n",
      "10        Community Area     INTEGER  YES  NaN     NaN    NaN\n",
      "11              Latitude      DOUBLE  YES  NaN     NaN    NaN\n",
      "12             Longitude      DOUBLE  YES  NaN     NaN    NaN\n"
     ]
    }
   ],
   "source": [
    "db.execute('DESCRIBE crimes;')\n",
    "print(db.fetch_df())"
   ]
  },
  {
   "cell_type": "code",
   "execution_count": 53,
   "metadata": {},
   "outputs": [
    {
     "data": {
      "text/plain": [
       "<duckdb.DuckDBPyConnection at 0x1833f40c4f0>"
      ]
     },
     "execution_count": 53,
     "metadata": {},
     "output_type": "execute_result"
    }
   ],
   "source": [
    "# export slimmed down crimes data to CSV file for use in data apps\n",
    "db.execute(\"COPY (SELECT * FROM crimes) TO '../data/crimes-2022-slim.csv' (FORMAT CSV)\")"
   ]
  }
 ],
 "metadata": {
  "kernelspec": {
   "display_name": "Python 3.10.7 64-bit",
   "language": "python",
   "name": "python3"
  },
  "language_info": {
   "codemirror_mode": {
    "name": "ipython",
    "version": 3
   },
   "file_extension": ".py",
   "mimetype": "text/x-python",
   "name": "python",
   "nbconvert_exporter": "python",
   "pygments_lexer": "ipython3",
   "version": "3.10.7"
  },
  "orig_nbformat": 4,
  "vscode": {
   "interpreter": {
    "hash": "369f2c481f4da34e4445cda3fffd2e751bd1c4d706f27375911949ba6bb62e1c"
   }
  }
 },
 "nbformat": 4,
 "nbformat_minor": 2
}
