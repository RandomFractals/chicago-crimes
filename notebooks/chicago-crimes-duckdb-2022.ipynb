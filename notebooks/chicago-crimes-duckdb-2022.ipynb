{
 "cells": [
  {
   "cell_type": "code",
   "execution_count": 1,
   "metadata": {},
   "outputs": [],
   "source": [
    "import duckdb"
   ]
  },
  {
   "cell_type": "code",
   "execution_count": 3,
   "metadata": {},
   "outputs": [
    {
     "data": {
      "text/plain": [
       "<duckdb.DuckDBPyConnection at 0x1f5f1ab0970>"
      ]
     },
     "execution_count": 3,
     "metadata": {},
     "output_type": "execute_result"
    }
   ],
   "source": [
    "db = duckdb.connect(database=':memory:')\n",
    "\n",
    "# enable unordered insertion for faster CSV data loading\n",
    "db.execute('SET preserve_insertion_order=false')\n",
    "\n",
    "# enable new experimental parallel CSV data reader\n",
    "db.execute('SET experimental_parallel_csv=true')"
   ]
  },
  {
   "cell_type": "code",
   "execution_count": 4,
   "metadata": {},
   "outputs": [
    {
     "data": {
      "text/plain": [
       "<duckdb.DuckDBPyConnection at 0x1f5f1ab0970>"
      ]
     },
     "execution_count": 4,
     "metadata": {},
     "output_type": "execute_result"
    }
   ],
   "source": [
    "db.execute(\"CREATE TABLE crimes AS SELECT * FROM read_csv_auto('../data/crimes-2022.csv')\")"
   ]
  },
  {
   "cell_type": "code",
   "execution_count": 5,
   "metadata": {},
   "outputs": [
    {
     "name": "stdout",
     "output_type": "stream",
     "text": [
      "             column_name column_type null  key default  extra\n",
      "0                     ID     INTEGER  YES  NaN     NaN    NaN\n",
      "1            Case Number     VARCHAR  YES  NaN     NaN    NaN\n",
      "2                   Date   TIMESTAMP  YES  NaN     NaN    NaN\n",
      "3                  Block     VARCHAR  YES  NaN     NaN    NaN\n",
      "4                   IUCR     VARCHAR  YES  NaN     NaN    NaN\n",
      "5           Primary Type     VARCHAR  YES  NaN     NaN    NaN\n",
      "6            Description     VARCHAR  YES  NaN     NaN    NaN\n",
      "7   Location Description     VARCHAR  YES  NaN     NaN    NaN\n",
      "8                 Arrest     BOOLEAN  YES  NaN     NaN    NaN\n",
      "9               Domestic     BOOLEAN  YES  NaN     NaN    NaN\n",
      "10                  Beat     INTEGER  YES  NaN     NaN    NaN\n",
      "11              District     INTEGER  YES  NaN     NaN    NaN\n",
      "12                  Ward     INTEGER  YES  NaN     NaN    NaN\n",
      "13        Community Area     INTEGER  YES  NaN     NaN    NaN\n",
      "14              FBI Code     VARCHAR  YES  NaN     NaN    NaN\n",
      "15          X Coordinate     INTEGER  YES  NaN     NaN    NaN\n",
      "16          Y Coordinate     INTEGER  YES  NaN     NaN    NaN\n",
      "17                  Year     INTEGER  YES  NaN     NaN    NaN\n",
      "18            Updated On   TIMESTAMP  YES  NaN     NaN    NaN\n",
      "19              Latitude      DOUBLE  YES  NaN     NaN    NaN\n",
      "20             Longitude      DOUBLE  YES  NaN     NaN    NaN\n",
      "21              Location     VARCHAR  YES  NaN     NaN    NaN\n"
     ]
    }
   ],
   "source": [
    "db.execute('DESCRIBE crimes;')\n",
    "print(db.fetch_df())"
   ]
  },
  {
   "cell_type": "code",
   "execution_count": 6,
   "metadata": {},
   "outputs": [
    {
     "name": "stdout",
     "output_type": "stream",
     "text": [
      "           ID Case Number                Date                  Block  IUCR  \\\n",
      "0    12835730    JF406398 2022-09-16 21:30:00    026XX S KEDVALE AVE  0610   \n",
      "1    12836792    JF407594 2022-09-23 01:00:00    002XX N ASHLAND AVE  031A   \n",
      "2    12658369    JF192464 2022-03-10 07:30:00        037XX W 13TH ST  1310   \n",
      "3    12827551    JF396473 2022-09-14 23:46:00  086XX S LAFAYETTE AVE  0560   \n",
      "4    12827967    JF396716 2022-09-15 08:23:00        007XX E 81ST ST  0486   \n",
      "..        ...         ...                 ...                    ...   ...   \n",
      "995  12828012    JF397015 2022-09-15 12:00:00        032XX W 87TH ST  1320   \n",
      "996  12835565    JF406036 2022-09-21 20:00:00        002XX W 75TH ST  1310   \n",
      "997  12828301    JF397043 2022-07-15 00:00:00    0000X W TERMINAL ST  2825   \n",
      "998  12838413    JF409508 2022-09-24 23:45:00    022XX N LINCOLN AVE  1320   \n",
      "999  12830957    JF400801 2022-09-18 05:30:00     006XX N KEDZIE AVE  0560   \n",
      "\n",
      "        Primary Type              Description            Location Description  \\\n",
      "0           BURGLARY           FORCIBLE ENTRY              RESIDENCE - GARAGE   \n",
      "1            ROBBERY          ARMED - HANDGUN                        SIDEWALK   \n",
      "2    CRIMINAL DAMAGE              TO PROPERTY                       APARTMENT   \n",
      "3            ASSAULT                   SIMPLE                        SIDEWALK   \n",
      "4            BATTERY  DOMESTIC BATTERY SIMPLE                       APARTMENT   \n",
      "..               ...                      ...                             ...   \n",
      "995  CRIMINAL DAMAGE               TO VEHICLE                          STREET   \n",
      "996  CRIMINAL DAMAGE              TO PROPERTY               CURRENCY EXCHANGE   \n",
      "997    OTHER OFFENSE  HARASSMENT BY TELEPHONE  AIRPORT EXTERIOR - SECURE AREA   \n",
      "998  CRIMINAL DAMAGE               TO VEHICLE                          STREET   \n",
      "999          ASSAULT                   SIMPLE                          STREET   \n",
      "\n",
      "     Arrest  Domestic  ...  Ward  Community Area  FBI Code  X Coordinate  \\\n",
      "0     False     False  ...    22              30        05     1149143.0   \n",
      "1     False     False  ...    27              28        03     1165689.0   \n",
      "2     False     False  ...    24              29        14           NaN   \n",
      "3      True     False  ...    21              44       08A     1177447.0   \n",
      "4     False      True  ...     6              44       08B     1182433.0   \n",
      "..      ...       ...  ...   ...             ...       ...           ...   \n",
      "995   False     False  ...    18              70        14     1156206.0   \n",
      "996   False     False  ...     6              69        14     1175716.0   \n",
      "997   False     False  ...    41              76        26     1101811.0   \n",
      "998   False     False  ...    43               7        14     1171492.0   \n",
      "999   False      True  ...    27              23       08A     1154929.0   \n",
      "\n",
      "    Y Coordinate  Year          Updated On   Latitude  Longitude  \\\n",
      "0      1886067.0  2022 2022-11-12 15:46:21  41.843293 -87.728175   \n",
      "1      1901848.0  2022 2022-11-12 15:46:21  41.886261 -87.667006   \n",
      "2            NaN  2022 2022-04-01 16:53:09        NaN        NaN   \n",
      "3      1847585.0  2022 2022-11-12 15:46:21  41.737100 -87.625469   \n",
      "4      1851453.0  2022 2022-11-12 15:46:21  41.747600 -87.607083   \n",
      "..           ...   ...                 ...        ...        ...   \n",
      "995    1846716.0  2022 2022-11-12 15:46:21  41.735169 -87.703314   \n",
      "996    1855233.0  2022 2022-11-12 15:46:21  41.758126 -87.631583   \n",
      "997    1934419.0  2022 2022-11-12 15:46:21  41.976763 -87.900984   \n",
      "998    1915271.0  2022 2022-11-12 15:46:21  41.922969 -87.645300   \n",
      "999    1903987.0  2022 2022-11-12 15:46:21  41.892353 -87.706462   \n",
      "\n",
      "                          Location  \n",
      "0    (41.843292869, -87.728175189)  \n",
      "1    (41.886261339, -87.667005567)  \n",
      "2                              NaN  \n",
      "3    (41.737100223, -87.625469191)  \n",
      "4    (41.747600456, -87.607082535)  \n",
      "..                             ...  \n",
      "995   (41.73516861, -87.703313645)  \n",
      "996  (41.758126171, -87.631582508)  \n",
      "997  (41.976762981, -87.900983721)  \n",
      "998  (41.922969177, -87.645300374)  \n",
      "999  (41.892353434, -87.706461515)  \n",
      "\n",
      "[1000 rows x 22 columns]\n"
     ]
    }
   ],
   "source": [
    "db.execute('SELECT * FROM crimes LIMIT 1000')\n",
    "print(db.fetch_df())"
   ]
  },
  {
   "cell_type": "code",
   "execution_count": 7,
   "metadata": {},
   "outputs": [
    {
     "data": {
      "text/plain": [
       "<duckdb.DuckDBPyConnection at 0x1f5f1ab0970>"
      ]
     },
     "execution_count": 7,
     "metadata": {},
     "output_type": "execute_result"
    }
   ],
   "source": [
    "# drop columns we will not use for data visualizations in data apps\n",
    "db.execute('ALTER TABLE crimes DROP ID')\n",
    "db.execute('ALTER TABLE crimes DROP \"Case Number\"')\n",
    "db.execute('ALTER TABLE crimes DROP IUCR')\n",
    "db.execute('ALTER TABLE crimes DROP Beat')\n",
    "db.execute('ALTER TABLE crimes DROP District')\n",
    "db.execute('ALTER TABLE crimes DROP Ward')\n",
    "db.execute('ALTER TABLE crimes DROP \"FBI Code\"')\n",
    "db.execute('ALTER TABLE crimes DROP \"X Coordinate\"')\n",
    "db.execute('ALTER TABLE crimes DROP \"Y Coordinate\"')\n",
    "db.execute('ALTER TABLE crimes DROP Year')\n",
    "db.execute('ALTER TABLE crimes DROP \"Updated On\"')\n",
    "db.execute('ALTER TABLE crimes DROP Latitude')\n",
    "db.execute('ALTER TABLE crimes DROP Longitude')\n",
    "db.execute('ALTER TABLE crimes DROP Location')\n"
   ]
  },
  {
   "cell_type": "code",
   "execution_count": 8,
   "metadata": {},
   "outputs": [
    {
     "name": "stdout",
     "output_type": "stream",
     "text": [
      "            column_name column_type null  key default  extra\n",
      "0                  Date   TIMESTAMP  YES  NaN     NaN    NaN\n",
      "1                 Block     VARCHAR  YES  NaN     NaN    NaN\n",
      "2          Primary Type     VARCHAR  YES  NaN     NaN    NaN\n",
      "3           Description     VARCHAR  YES  NaN     NaN    NaN\n",
      "4  Location Description     VARCHAR  YES  NaN     NaN    NaN\n",
      "5                Arrest     BOOLEAN  YES  NaN     NaN    NaN\n",
      "6              Domestic     BOOLEAN  YES  NaN     NaN    NaN\n",
      "7        Community Area     INTEGER  YES  NaN     NaN    NaN\n"
     ]
    }
   ],
   "source": [
    "db.execute('DESCRIBE crimes;')\n",
    "print(db.fetch_df())"
   ]
  },
  {
   "cell_type": "code",
   "execution_count": 9,
   "metadata": {},
   "outputs": [
    {
     "data": {
      "text/plain": [
       "<duckdb.DuckDBPyConnection at 0x1f5f1ab0970>"
      ]
     },
     "execution_count": 9,
     "metadata": {},
     "output_type": "execute_result"
    }
   ],
   "source": [
    "# export slimmed down crimes data to CSV file for use in data apps\n",
    "db.execute(\"COPY (SELECT * FROM crimes) TO '../data/crimes-2022-slim.csv' (FORMAT CSV)\")"
   ]
  }
 ],
 "metadata": {
  "kernelspec": {
   "display_name": "base",
   "language": "python",
   "name": "python3"
  },
  "language_info": {
   "codemirror_mode": {
    "name": "ipython",
    "version": 3
   },
   "file_extension": ".py",
   "mimetype": "text/x-python",
   "name": "python",
   "nbconvert_exporter": "python",
   "pygments_lexer": "ipython3",
   "version": "3.8.8"
  },
  "orig_nbformat": 4,
  "vscode": {
   "interpreter": {
    "hash": "053ba6305fa347bea405e2cbb2037d3d5b99b4f7018305ee5a68bb9f3bdf3eef"
   }
  }
 },
 "nbformat": 4,
 "nbformat_minor": 2
}
