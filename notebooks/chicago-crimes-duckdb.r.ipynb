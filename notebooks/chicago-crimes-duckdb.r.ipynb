{
 "cells": [
  {
   "cell_type": "code",
   "execution_count": null,
   "metadata": {},
   "outputs": [],
   "source": [
    "library(\"DBI\")"
   ]
  },
  {
   "cell_type": "code",
   "execution_count": null,
   "metadata": {},
   "outputs": [],
   "source": [
    "# create in-memory database\n",
    "db <- dbConnect(duckdb::duckdb(), dbdir = \":memory:\")"
   ]
  }
 ],
 "metadata": {
  "kernelspec": {
   "display_name": "Python 3.9.12",
   "language": "python",
   "name": "python3"
  },
  "language_info": {
   "name": "python",
   "version": "3.9.12"
  },
  "orig_nbformat": 4,
  "vscode": {
   "interpreter": {
    "hash": "83281310379310cf1408853619585646be96446f9afe9175ca077874edb43616"
   }
  }
 },
 "nbformat": 4,
 "nbformat_minor": 2
}
